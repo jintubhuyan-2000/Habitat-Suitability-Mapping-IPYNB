{
 "cells": [
  {
   "cell_type": "code",
   "execution_count": 1,
   "metadata": {},
   "outputs": [],
   "source": [
    "import numpy as np\n",
    "import rasterio\n",
    "from sklearn.preprocessing import MinMaxScaler\n"
   ]
  },
  {
   "cell_type": "code",
   "execution_count": 2,
   "metadata": {},
   "outputs": [],
   "source": [
    "def read_raster(file_path):\n",
    "    \"\"\"Read a raster file and return the data and metadata.\"\"\"\n",
    "    with rasterio.open(file_path) as src:\n",
    "        data = src.read(1)  # Read the first band\n",
    "        metadata = src.meta\n",
    "    return data, metadata\n",
    "\n",
    "def normalize_raster(data):\n",
    "    \"\"\"Normalize raster data to the range [0, 1].\"\"\"\n",
    "    scaler = MinMaxScaler()\n",
    "    data_flat = data.flatten().reshape(-1, 1)\n",
    "    normalized_flat = scaler.fit_transform(data_flat)\n",
    "    return normalized_flat.reshape(data.shape)\n",
    "\n",
    "def ahp_weights(criteria_weights):\n",
    "    \"\"\"Calculate normalized AHP weights from criteria weights.\"\"\"\n",
    "    total = sum(criteria_weights)\n",
    "    return [weight / total for weight in criteria_weights]\n",
    "\n",
    "def topsis(data, weights):\n",
    "    \"\"\"Perform TOPSIS analysis.\"\"\"\n",
    "    norm_data = data / np.sqrt((data ** 2).sum(axis=0))\n",
    "    weighted_data = norm_data * weights\n",
    "\n",
    "    ideal_best = np.max(weighted_data, axis=0)\n",
    "    ideal_worst = np.min(weighted_data, axis=0)\n",
    "\n",
    "    distance_best = np.sqrt(((weighted_data - ideal_best) ** 2).sum(axis=1))\n",
    "    distance_worst = np.sqrt(((weighted_data - ideal_worst) ** 2).sum(axis=1))\n",
    "\n",
    "    scores = distance_worst / (distance_best + distance_worst)\n",
    "    return scores\n",
    "\n",
    "def weighted_overlay(rasters, weights):\n",
    "    \"\"\"Perform weighted overlay of rasters.\"\"\"\n",
    "    combined = np.zeros_like(rasters[0])\n",
    "    for i, raster in enumerate(rasters):\n",
    "        combined += raster * weights[i]\n",
    "    return combined\n",
    "\n",
    "def average_weighted(rasters):\n",
    "    \"\"\"Perform average weighted overlay of rasters.\"\"\"\n",
    "    return np.mean(rasters, axis=0)\n",
    "\n",
    "def save_raster(output_path, data, metadata):\n",
    "    \"\"\"Save data to a new raster file.\"\"\"\n",
    "    metadata.update({\"dtype\": \"float32\"})\n",
    "    with rasterio.open(output_path, \"w\", **metadata) as dst:\n",
    "        dst.write(data, 1)\n"
   ]
  },
  {
   "cell_type": "code",
   "execution_count": 4,
   "metadata": {},
   "outputs": [],
   "source": [
    "NDVI = r\"D:\\Acres\\December 2024\\Assignment 3\\Reclassification Data\\NDVI.tif\"\n",
    "EVI  = r\"D:\\Acres\\December 2024\\Assignment 3\\Reclassification Data\\NDWI.tif\"\n",
    "NDWI = r\"D:\\Acres\\December 2024\\Assignment 3\\Reclassification Data\\EVI.tif\"\n",
    "NIR = r\"D:\\Acres\\December 2024\\Assignment 3\\Reclassification Data\\NIR.tif\"\n",
    "RED = r\"D:\\Acres\\December 2024\\Assignment 3\\Reclassification Data\\GREEN.tif\"\n",
    "GREEN = r\"D:\\Acres\\December 2024\\Assignment 3\\Reclassification Data\\RED.tif\""
   ]
  },
  {
   "cell_type": "code",
   "execution_count": 5,
   "metadata": {},
   "outputs": [],
   "source": [
    "# File paths to input TIFFs\n",
    "file_paths = [NDVI, EVI, NDWI, NIR, GREEN, RED]\n",
    "\n"
   ]
  },
  {
   "cell_type": "code",
   "execution_count": 6,
   "metadata": {},
   "outputs": [],
   "source": [
    "# Read and normalize raster data\n",
    "rasters = []\n",
    "metadata = None\n",
    "for file_path in file_paths:\n",
    "    data, metadata = read_raster(file_path)\n",
    "    normalized_data = normalize_raster(data)\n",
    "    rasters.append(normalized_data)\n",
    "\n",
    "# Define criteria weights (example values, sum must equal 1)\n",
    "criteria_weights = [0.2, 0.3, 0.1, 0.25, 0.15, 0.3]\n",
    "\n",
    "# Normalize AHP weights\n",
    "weights = ahp_weights(criteria_weights)\n",
    "\n",
    "# Stack rasters into a single array for MCDM/TOPSIS analysis\n",
    "stacked_rasters = np.stack(rasters, axis=2)\n",
    "rows, cols, num_criteria = stacked_rasters.shape\n",
    "stacked_flat = stacked_rasters.reshape(rows * cols, num_criteria)\n",
    "\n",
    "# Perform TOPSIS analysis\n",
    "scores_topsis = topsis(stacked_flat, weights)\n",
    "suitability_map_topsis = scores_topsis.reshape(rows, cols)\n",
    "\n",
    "# Perform Weighted Overlay analysis\n",
    "weighted_map = weighted_overlay(rasters, weights)\n",
    "\n",
    "# Perform Average Weighted analysis\n",
    "average_weighted_map = average_weighted(rasters)\n",
    "\n"
   ]
  },
  {
   "cell_type": "code",
   "execution_count": 7,
   "metadata": {},
   "outputs": [
    {
     "name": "stdout",
     "output_type": "stream",
     "text": [
      "TOPSIS-based habitat suitability map saved to D:/Acres/December 2024/Assignment 3/Results/habitat_suitability_topsis.tif\n",
      "Weighted overlay habitat suitability map saved to D:/Acres/December 2024/Assignment 3/Results/habitat_suitability_weighted_overlay.tif\n",
      "Average weighted habitat suitability map saved to D:/Acres/December 2024/Assignment 3/Results/habitat_suitability_avg_weighted.tif\n"
     ]
    }
   ],
   "source": [
    "# Save output rasters\n",
    "output_path_topsis = \"D:/Acres/December 2024/Assignment 3/Results/habitat_suitability_topsis.tif\"\n",
    "output_path_weighted = \"D:/Acres/December 2024/Assignment 3/Results/habitat_suitability_weighted_overlay.tif\"\n",
    "output_path_avg_weighted = \"D:/Acres/December 2024/Assignment 3/Results/habitat_suitability_avg_weighted.tif\"\n",
    "\n",
    "save_raster(output_path_topsis, suitability_map_topsis, metadata)\n",
    "save_raster(output_path_weighted, weighted_map, metadata)\n",
    "save_raster(output_path_avg_weighted, average_weighted_map, metadata)\n",
    "\n",
    "print(f\"TOPSIS-based habitat suitability map saved to {output_path_topsis}\")\n",
    "print(f\"Weighted overlay habitat suitability map saved to {output_path_weighted}\")\n",
    "print(f\"Average weighted habitat suitability map saved to {output_path_avg_weighted}\")"
   ]
  }
 ],
 "metadata": {
  "kernelspec": {
   "display_name": "JintuEnv",
   "language": "python",
   "name": "python3"
  },
  "language_info": {
   "codemirror_mode": {
    "name": "ipython",
    "version": 3
   },
   "file_extension": ".py",
   "mimetype": "text/x-python",
   "name": "python",
   "nbconvert_exporter": "python",
   "pygments_lexer": "ipython3",
   "version": "3.12.4"
  }
 },
 "nbformat": 4,
 "nbformat_minor": 2
}
